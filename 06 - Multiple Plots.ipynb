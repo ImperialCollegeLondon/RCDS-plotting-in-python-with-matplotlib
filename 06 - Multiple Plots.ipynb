{
 "cells": [
  {
   "attachments": {},
   "cell_type": "markdown",
   "metadata": {
    "id": "b1P_bV3A8LvV"
   },
   "source": [
    "# Multiple Plots\n",
    "\n",
    "Sometimes, you will want to create several plots together as they contained related data. In this notebook, we'll look at how to produce a group of plots and some basic commands to customise them.\n",
    "\n",
    "## Subplots\n",
    "\n",
    "Matplotlib allows you to do so via the ```plt.subplots``` command. If this is given two arguments, these will specify the number of rows and columns of the subplots respectively. This command will return references to the figure as a whole and each set of axes. Specifically, these values will be returned as a tuple with two values. The first is the reference to the figure as a whole. The second is a Numpy array with the same shape as the subfigures"
   ]
  },
  {
   "cell_type": "code",
   "execution_count": null,
   "metadata": {
    "id": "3krIgtYS8Jsv"
   },
   "outputs": [],
   "source": [
    "import matplotlib.pyplot as plt\n",
    "\n",
    "# Create a plot with three rows and two columns of subfigures\n",
    "a = plt.subplots(3,2)\n",
    "\n",
    "# Print the type of the returned data\n",
    "print(\"Type of a: \", type(a))\n",
    "# Print the length of the returned tuple\n",
    "print(\"Length of a: \", len(a))\n",
    "# Print the type of the first entry of the returned value\n",
    "print(\"Type of a[0]: \", type(a[0]))\n",
    "# Print the type of the second entry of the returned value\n",
    "print(\"Type of a[1]: \", type(a[1]))\n",
    "# Print the shape of the Numpy array returned as the second entry\n",
    "print(\"Shape of a[1]: \", (a[1].shape))\n",
    "# Print the types of the data representing the top left and bottom right subplots\n",
    "print(\"Type of a[1][0,0] and a[1][2,1]: \",  type(a[1][0,0]), type(a[1][2,1]))"
   ]
  },
  {
   "attachments": {},
   "cell_type": "markdown",
   "metadata": {
    "id": "Oq137H32-Uif"
   },
   "source": [
    "We can use tuple assignment to obtain a reference to the figure and to each of the axes. It's conventional to store these references in variables named ```fig``` and ```axs```. We can then plot in each of those sets of axes independently. These subplots are, by default, entirely separate and can have different formatting, types etc.\n",
    "\n",
    "We can add a title to the group of plots using the command ```fig.suptitle()```, providing the desired title as a string argument.\n",
    "\n",
    "As we may be placing several adjacent plots into the same row, it can also be useful to manually specify the height and width of the figure so the subplots have the desired aspect ratio. This can be achieved by specifying the optional argument ```figsize``` to the ```plt.subplots``` command and providing a tuple with two values. The first specifies the width of the overall figure, the second specifies the height."
   ]
  },
  {
   "cell_type": "code",
   "execution_count": null,
   "metadata": {
    "id": "0oSuJ1iE8oLi"
   },
   "outputs": [],
   "source": [
    "import matplotlib.pyplot as plt\n",
    "\n",
    "# Create a set of subplots with two rows and one column\n",
    "# The Numpy array containing the references to the sets of axes will be 1 dimensional as the subplots only extend in one dimension\n",
    "# The size is specified such that the height is slightly larger than the width so the plots aren't squashed vertically\n",
    "fig, axs = plt.subplots(2,1, figsize = (6, 8))\n",
    "\n",
    "# Create the top plot\n",
    "x1 = [2020, 2021, 2022, 2023, 2024, 2025]\n",
    "y1= [0, 10, 3, 4, -2, 8]\n",
    "axs[0].set_xlabel('Year')\n",
    "axs[0].set_ylabel(\"Health\")\n",
    "axs[0].plot(x1, y1, color = \"hotpink\")\n",
    "\n",
    "# Create the bottom plot\n",
    "x2 = [\"Apples\", \"Pears\", \"Bananas\", \"Grapes\", \"Lemons\", \"Oranges\"]\n",
    "y2 = [1, 10000, 100, 50000, 20, 167896]\n",
    "axs[1].set_yscale('log')\n",
    "axs[1].set_xlabel(\"Fruits\")\n",
    "axs[1].set_ylabel(\"Frequency\")\n",
    "axs[1].bar(x2, y2)\n",
    "\n",
    "# give a title to the figures\n",
    "fig.suptitle(\"Some figures\")"
   ]
  },
  {
   "attachments": {},
   "cell_type": "markdown",
   "metadata": {
    "id": "v_k3a8o_IUZA"
   },
   "source": [
    "## Shared Axes\n",
    "\n",
    "It's possible to cause subplots in the same figure to share their axis values. For example, sharing y-axis values would mean that, if the value of 10 is halfway up the y-axis of one, 10 will be halfway up the axis of all subfigures with the same axis.\n",
    "\n",
    "This can be achieved when using the ```plt.subplots``` command and setting either or both of the ```sharex``` (for the x-axis) and ```sharey``` (for the y-axis) optional arguments. The options for these values are:\n",
    "\n",
    "* ```\"all\"``` or ```True```: Every subplot shares the specified axis,\n",
    "* ```\"none\"``` or ```False```: Every subplot is independent (this is the default if ```sharex```/```sharey``` are not explicitly specified),\n",
    "* ```\"row\"```: suplots in the same row will share the specified axis,\n",
    "* ```\"col\"```: subplots in the same column will share the specified axis.\n",
    "\n",
    "Finally, we have used the ```fig.tight_layout()``` to reduce the whitespace between the subplots. This makes the subplots larger and easier to read. This command can also be useful in the cases where the labels of one subplot overlap with the title of another, or are cut off by the edge of the figure."
   ]
  },
  {
   "cell_type": "code",
   "execution_count": null,
   "metadata": {
    "id": "oHrKn2p36Tdi"
   },
   "outputs": [],
   "source": [
    "import matplotlib.pyplot as plt\n",
    "\n",
    "# Create a 2x2 array of subplots\n",
    "# Cause subplots in the same column to share the same axis by setting the optional argument sharex\n",
    "# Cause all subplots to share a y-axis\n",
    "fig, axs = plt.subplots(2, 2, sharex='col', sharey='all')\n",
    "\n",
    "# Create the top-left plot\n",
    "x1 = [0, 1, 2, 3, 4, 5]\n",
    "y1 = [1, 2, 3, 1, 4, 0]\n",
    "axs[0,0].plot(x1, y1)\n",
    "\n",
    "# Create the top-right plot\n",
    "x2 = [0, 1, 2, 3, 4, 5]\n",
    "y2 = [0, 8, 0, 0, 0, 0]\n",
    "axs[0,1].plot(x2, y2)\n",
    "\n",
    "# Create the bottom-left plot\n",
    "x3 = [0, 2, 4, 6, 8, 10]\n",
    "y3 = [0, 1, 0, 1, 2, 0]\n",
    "axs[1,0].plot(x3, y3)\n",
    "\n",
    "# Create the bottom-right plot\n",
    "x4 = [0, 1, 2, 3, 4, 5]\n",
    "y4 = [4, 1, 3, 4, 1, 4]\n",
    "axs[1,1].plot(x4, y4)\n",
    "\n",
    "# This command reduces the whitespace between axes\n",
    "fig.tight_layout()"
   ]
  },
  {
   "attachments": {},
   "cell_type": "markdown",
   "metadata": {
    "id": "KLR2a7k5v9P3"
   },
   "source": [
    "## Adding Subplots\n",
    "\n",
    "Sometimes it can be useful to create a figure with no subplots and add them one by one. This can allow the addition of different types of plots (e.g. a mix of 2D and 3D axes).\n",
    "\n",
    "Firstly, we can create a figure using the ```plt.figure``` command. Initially, there are no axes present. We can then add subplots to this figure using the ```fig.add_subplot``` command ([manual page](https://matplotlib.org/stable/api/_as_gen/matplotlib.pyplot.subplot.html)). There are a couple of ways we can specify the location of the subplot. The most common is to specify three arguments. The first is the number of rows of subplots, the second is the number of columns of subplots. The third is the number of the subplot, counting from left to right, then top to bottom (beginning at 1). So, to insert a subplot at the top-right of a grid of suplots with three rows and two columns we would use the arguments ```3,2,2```. To insert a subplot at the bottom left of the same grid, we would use ```3,2,5```.\n",
    "\n",
    "The ```fig.add_subplot``` command allows a few details of the plot to be defined, including the projection type using the optional argument ```projection```."
   ]
  },
  {
   "cell_type": "code",
   "execution_count": null,
   "metadata": {
    "id": "2AmDNCRuwKWm"
   },
   "outputs": [],
   "source": [
    "import matplotlib.pyplot as plt\n",
    "from mpl_toolkits import mplot3d # This import is required for the 3D projection to work properly with the add_subplots command\n",
    "\n",
    "# Create an empty collection of subplots\n",
    "fig = plt.figure(figsize=(12,5))\n",
    "\n",
    "# Create a 2D subplot on the left\n",
    "ax_1 = fig.add_subplot(1, 2, 1)\n",
    "ax_1.set_title(\"2D\")\n",
    "\n",
    "# Add a 3D subplot on the right\n",
    "ax_2 = fig.add_subplot(1, 2, 2, projection='3d')\n",
    "ax_2.set_title(\"3D\")"
   ]
  },
  {
   "attachments": {},
   "cell_type": "markdown",
   "metadata": {
    "id": "4H8O6wqg-Eou"
   },
   "source": [
    "## Exercise: Programming Experience\n",
    "\n",
    "A survey of postgraduate students has been carried out at Imperial. The students were asked what language they programmed in most and how they would categorise their level of experience with these languages. The results are presented below:\n",
    "\n",
    "| Most-used language | Number of Students |\n",
    "|-|-|\n",
    "| Python | 152 |\n",
    "| R | 89 |\n",
    "| Matlab | 66 |\n",
    "| C++ | 47 |\n",
    "| C | 30 |\n",
    "| Java | 22 |\n",
    "| Fortran | 15 |\n",
    "\n",
    "<br>\n",
    "\n",
    "| Level of Expertise | Number of Students |\n",
    "|-|-|\n",
    "| Novice | 108 |\n",
    "| Intermediate | 188 |\n",
    "| Advanced | 125 |\n",
    "\n",
    "In the code cell below, produce a figure containing two side-by-side subplots displaying this data as a pair of bar charts. Set the y-axes to be shared and appropriately label the figure and axes."
   ]
  },
  {
   "cell_type": "code",
   "execution_count": null,
   "metadata": {
    "id": "URU2aoEq6avE"
   },
   "outputs": [],
   "source": []
  }
 ],
 "metadata": {
  "colab": {
   "collapsed_sections": [],
   "name": "Multiple Plots.ipynb",
   "provenance": []
  },
  "kernelspec": {
   "display_name": "Python 3",
   "language": "python",
   "name": "python3"
  },
  "language_info": {
   "codemirror_mode": {
    "name": "ipython",
    "version": 3
   },
   "file_extension": ".py",
   "mimetype": "text/x-python",
   "name": "python",
   "nbconvert_exporter": "python",
   "pygments_lexer": "ipython3",
   "version": "3.11.5"
  }
 },
 "nbformat": 4,
 "nbformat_minor": 0
}
